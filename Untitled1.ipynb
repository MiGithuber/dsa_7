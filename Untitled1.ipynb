{
 "cells": [
  {
   "cell_type": "code",
   "execution_count": 1,
   "id": "0429d4f0-14e0-4696-ab31-3d038a37e17c",
   "metadata": {},
   "outputs": [
    {
     "name": "stdout",
     "output_type": "stream",
     "text": [
      "True\n"
     ]
    }
   ],
   "source": [
    "### 1)\n",
    "def isIsomorphic(s, t):\n",
    "    if len(s) != len(t):\n",
    "        return False\n",
    "\n",
    "    sMap = {}\n",
    "    tMap = {}\n",
    "\n",
    "    for i in range(len(s)):\n",
    "        sChar = s[i]\n",
    "        tChar = t[i]\n",
    "\n",
    "        if sChar in sMap:\n",
    "            if sMap[sChar] != tChar:\n",
    "                return False\n",
    "        else:\n",
    "            sMap[sChar] = tChar\n",
    "\n",
    "        if tChar in tMap:\n",
    "            if tMap[tChar] != sChar:\n",
    "                return False\n",
    "        else:\n",
    "            tMap[tChar] = sChar\n",
    "\n",
    "    return True\n",
    "s = \"egg\"\n",
    "t = \"add\"\n",
    "print(isIsomorphic(s, t))  # Output: True\n"
   ]
  },
  {
   "cell_type": "code",
   "execution_count": 2,
   "id": "bbc2f6c9-a5c2-4a88-8f23-863f862d11f5",
   "metadata": {},
   "outputs": [
    {
     "name": "stdout",
     "output_type": "stream",
     "text": [
      "True\n"
     ]
    }
   ],
   "source": [
    "### 2)\n",
    "def isStrobogrammatic(num):\n",
    "    strobogrammaticMap = {\"0\": \"0\", \"1\": \"1\", \"6\": \"9\", \"8\": \"8\", \"9\": \"6\"}\n",
    "\n",
    "    left = 0\n",
    "    right = len(num) - 1\n",
    "\n",
    "    while left <= right:\n",
    "        leftChar = num[left]\n",
    "        rightChar = num[right]\n",
    "\n",
    "        if leftChar not in strobogrammaticMap or rightChar not in strobogrammaticMap:\n",
    "            return False\n",
    "\n",
    "        if strobogrammaticMap[leftChar] != rightChar:\n",
    "            return False\n",
    "\n",
    "        left += 1\n",
    "        right -= 1\n",
    "\n",
    "    return True\n",
    "num = \"69\"\n",
    "print(isStrobogrammatic(num))  # Output: True\n"
   ]
  },
  {
   "cell_type": "code",
   "execution_count": 3,
   "id": "784a808c-0613-41ef-ad20-648c0077ac7f",
   "metadata": {},
   "outputs": [
    {
     "name": "stdout",
     "output_type": "stream",
     "text": [
      "s'teL ekat edoCteeL tsetnoc\n"
     ]
    }
   ],
   "source": [
    "### 4)\n",
    "def reverseWords(s):\n",
    "    words = s.split()\n",
    "    reversed_words = []\n",
    "\n",
    "    for word in words:\n",
    "        reversed_word = word[::-1]\n",
    "        reversed_words.append(reversed_word)\n",
    "\n",
    "    result = ' '.join(reversed_words)\n",
    "    return result\n",
    "s = \"Let's take LeetCode contest\"\n",
    "print(reverseWords(s))  # Output: \"s'teL ekat edoCteeL tsetnoc\"\n"
   ]
  },
  {
   "cell_type": "code",
   "execution_count": null,
   "id": "a7916bbc-c76e-4cd6-bdc2-2889a9773f5e",
   "metadata": {},
   "outputs": [],
   "source": []
  }
 ],
 "metadata": {
  "kernelspec": {
   "display_name": "Python 3 (ipykernel)",
   "language": "python",
   "name": "python3"
  },
  "language_info": {
   "codemirror_mode": {
    "name": "ipython",
    "version": 3
   },
   "file_extension": ".py",
   "mimetype": "text/x-python",
   "name": "python",
   "nbconvert_exporter": "python",
   "pygments_lexer": "ipython3",
   "version": "3.10.8"
  }
 },
 "nbformat": 4,
 "nbformat_minor": 5
}
